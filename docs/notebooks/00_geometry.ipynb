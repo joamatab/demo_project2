{
 "cells": [
  {
   "cell_type": "code",
   "execution_count": null,
   "id": "321b459e",
   "metadata": {},
   "outputs": [],
   "source": [
    "import gdsfactory as gf\n",
    "from gdsfactory.generic_tech import get_generic_pdk\n",
    "\n",
    "gf.config.rich_output()\n",
    "\n",
    "PDK = get_generic_pdk()\n",
    "PDK.activate()\n",
    "\n",
    "# Create a blank component (essentially an empty GDS cell with some special features)\n",
    "c = gf.Component(\"myComponent\")\n",
    "\n",
    "# Create and add a polygon from separate lists of x points and y points\n",
    "# (Can also be added like [(x1,y1), (x2,y2), (x3,y3), ... ]\n",
    "poly1 = c.add_polygon(\n",
    "    [(-8, 6, 7, 9), (-6, 8, 17, 5)], layer=1\n",
    ")  # GDS layers are tuples of ints (but if we use only one number it assumes the other number is 0)\n",
    "\n",
    "# show it in matplotlib and KLayout (you need to have KLayout open and install gdsfactory from the git repo with make install)\n",
    "c.plot_matplotlib()"
   ]
  },
  {
   "cell_type": "code",
   "execution_count": null,
   "id": "90d708d7",
   "metadata": {
    "lines_to_next_cell": 0
   },
   "outputs": [],
   "source": []
  },
  {
   "cell_type": "code",
   "execution_count": null,
   "id": "fdd88a1a",
   "metadata": {},
   "outputs": [],
   "source": [
    "c = gf.Component(\"myComponent2\")\n",
    "# Create some new geometry from the functions available in the geometry library\n",
    "t = gf.components.text(\"Hello!\")\n",
    "r = gf.components.rectangle(size=[5, 10], layer=(2, 0))\n",
    "\n",
    "# Add references to the new geometry to c, our blank component\n",
    "text1 = c.add_ref(t)  # Add the text we created as a reference\n",
    "# Using the << operator (identical to add_ref()), add the same geometry a second time\n",
    "text2 = c << t\n",
    "r = c << r  # Add the rectangle we created\n",
    "s = c.to_3d()\n",
    "s.show()"
   ]
  },
  {
   "cell_type": "code",
   "execution_count": null,
   "id": "2001e0cc",
   "metadata": {},
   "outputs": [],
   "source": []
  },
  {
   "cell_type": "markdown",
   "id": "8a683db2",
   "metadata": {},
   "source": [
    "# Component\n",
    "\n",
    "A `Component` is like an empty canvas, where you can add polygons, references to other Components and ports (to connect to other components)\n",
    "\n",
    "![](https://i.imgur.com/oeuKGsc.png)\n",
    "\n",
    "In gdsfactory **all dimensions** are in **microns**"
   ]
  },
  {
   "cell_type": "markdown",
   "id": "d209c184",
   "metadata": {},
   "source": [
    "## Polygons\n",
    "\n",
    "You can add polygons to different layers."
   ]
  },
  {
   "cell_type": "code",
   "execution_count": null,
   "id": "80ac48d0",
   "metadata": {},
   "outputs": [],
   "source": [
    "\n",
    "gf.config.rich_output()\n",
    "\n",
    "PDK = get_generic_pdk()\n",
    "PDK.activate()\n",
    "\n",
    "# Create a blank component (essentially an empty GDS cell with some special features)\n",
    "c = gf.Component(\"myComponent\")\n",
    "\n",
    "# Create and add a polygon from separate lists of x points and y points\n",
    "# (Can also be added like [(x1,y1), (x2,y2), (x3,y3), ... ]\n",
    "poly1 = c.add_polygon(\n",
    "    [(-8, 6, 7, 9), (-6, 8, 17, 5)], layer=1\n",
    ")  # GDS layers are tuples of ints (but if we use only one number it assumes the other number is 0)\n",
    "\n",
    "# show it in matplotlib and KLayout (you need to have KLayout open and install gdsfactory from the git repo with make install)\n",
    "c.plot_matplotlib()"
   ]
  },
  {
   "cell_type": "markdown",
   "id": "0e7ff65e",
   "metadata": {},
   "source": [
    "**Exercise** :\n",
    "\n",
    "Make a component similar to the one above that has a second polygon in layer (2, 0)"
   ]
  },
  {
   "cell_type": "code",
   "execution_count": null,
   "id": "ecbcdb11",
   "metadata": {},
   "outputs": [],
   "source": [
    "c = gf.Component(\"myComponent2\")\n",
    "# Create some new geometry from the functions available in the geometry library\n",
    "t = gf.components.text(\"Hello!\")\n",
    "r = gf.components.rectangle(size=[5, 10], layer=(2, 0))\n",
    "\n",
    "# Add references to the new geometry to c, our blank component\n",
    "text1 = c.add_ref(t)  # Add the text we created as a reference\n",
    "# Using the << operator (identical to add_ref()), add the same geometry a second time\n",
    "text2 = c << t\n",
    "r = c << r  # Add the rectangle we created\n",
    "s = c.to_3d()\n",
    "s.show()\n",
    "\n",
    "# Now that the geometry has been added to \"c\", we can move everything around:"
   ]
  }
 ],
 "metadata": {
  "jupytext": {
   "cell_metadata_filter": "title,-all",
   "custom_cell_magics": "kql"
  },
  "kernelspec": {
   "display_name": "Python 3 (ipykernel)",
   "language": "python",
   "name": "python3"
  }
 },
 "nbformat": 4,
 "nbformat_minor": 5
}
