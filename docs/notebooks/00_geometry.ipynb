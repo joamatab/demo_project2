{
 "cells": [
  {
   "cell_type": "code",
   "execution_count": null,
   "id": "315af867-4d48-40d3-833a-84f1b888d1fe",
   "metadata": {},
   "outputs": [],
   "source": [
    "import gdsfactory as gf\n",
    "from gdsfactory.generic_tech import get_generic_pdk\n",
    "\n",
    "gf.config.rich_output()\n",
    "\n",
    "PDK = get_generic_pdk()\n",
    "PDK.activate()\n",
    "\n",
    "# Create a blank component (essentially an empty GDS cell with some special features)\n",
    "c = gf.Component(\"myComponent\")\n",
    "\n",
    "# Create and add a polygon from separate lists of x points and y points\n",
    "# (Can also be added like [(x1,y1), (x2,y2), (x3,y3), ... ]\n",
    "poly1 = c.add_polygon(\n",
    "    [(-8, 6, 7, 9), (-6, 8, 17, 5)], layer=1\n",
    ")  # GDS layers are tuples of ints (but if we use only one number it assumes the other number is 0)\n",
    "\n",
    "# show it in matplotlib and KLayout (you need to have KLayout open and install gdsfactory from the git repo with make install)\n",
    "c"
   ]
  },
  {
   "cell_type": "code",
   "execution_count": null,
   "id": "ae36fc2c-f59a-4c52-867c-c3c8a3174415",
   "metadata": {},
   "outputs": [],
   "source": [
    "# %%\n",
    "c = gf.Component(\"myComponent2\")\n",
    "# Create some new geometry from the functions available in the geometry library\n",
    "t = gf.components.text(\"Hello!\")\n",
    "r = gf.components.rectangle(size=[5, 10], layer=(2, 0))\n",
    "\n",
    "# Add references to the new geometry to c, our blank component\n",
    "text1 = c.add_ref(t)  # Add the text we created as a reference\n",
    "# Using the << operator (identical to add_ref()), add the same geometry a second time\n",
    "text2 = c << t\n",
    "r = c << r  # Add the rectangle we created\n",
    "s = c.to_3d()\n",
    "s.show()"
   ]
  }
 ],
 "metadata": {
  "kernelspec": {
   "display_name": "Python 3 (ipykernel)",
   "language": "python",
   "name": "python3"
  },
  "language_info": {
   "codemirror_mode": {
    "name": "ipython",
    "version": 3
   },
   "file_extension": ".py",
   "mimetype": "text/x-python",
   "name": "python",
   "nbconvert_exporter": "python",
   "pygments_lexer": "ipython3",
   "version": "3.10.10"
  }
 },
 "nbformat": 4,
 "nbformat_minor": 5
}
